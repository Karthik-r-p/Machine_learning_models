{
 "cells": [
  {
   "cell_type": "markdown",
   "id": "6d26e18e",
   "metadata": {},
   "source": [
    "# Logistic Regression "
   ]
  },
  {
   "cell_type": "code",
   "execution_count": 1,
   "id": "ab5b6185",
   "metadata": {},
   "outputs": [],
   "source": [
    "import pandas as pd\n",
    "import numpy as np\n",
    "import matplotlib.pyplot as plt"
   ]
  },
  {
   "cell_type": "code",
   "execution_count": 2,
   "id": "b24709d0",
   "metadata": {},
   "outputs": [],
   "source": [
    "%matplotlib inline"
   ]
  },
  {
   "cell_type": "code",
   "execution_count": 4,
   "id": "45350dbe",
   "metadata": {},
   "outputs": [],
   "source": [
    "df=pd.read_csv(\"secusystem.csv\")"
   ]
  },
  {
   "cell_type": "code",
   "execution_count": 12,
   "id": "16017c71",
   "metadata": {},
   "outputs": [
    {
     "data": {
      "text/plain": [
       "(48, 3)"
      ]
     },
     "execution_count": 12,
     "metadata": {},
     "output_type": "execute_result"
    }
   ],
   "source": [
    "df.shape"
   ]
  },
  {
   "cell_type": "code",
   "execution_count": 7,
   "id": "e538791b",
   "metadata": {},
   "outputs": [
    {
     "data": {
      "text/html": [
       "<div>\n",
       "<style scoped>\n",
       "    .dataframe tbody tr th:only-of-type {\n",
       "        vertical-align: middle;\n",
       "    }\n",
       "\n",
       "    .dataframe tbody tr th {\n",
       "        vertical-align: top;\n",
       "    }\n",
       "\n",
       "    .dataframe thead th {\n",
       "        text-align: right;\n",
       "    }\n",
       "</style>\n",
       "<table border=\"1\" class=\"dataframe\">\n",
       "  <thead>\n",
       "    <tr style=\"text-align: right;\">\n",
       "      <th></th>\n",
       "      <th>IncomeKs</th>\n",
       "      <th>Sqft</th>\n",
       "      <th>SecuritySystemOwner</th>\n",
       "    </tr>\n",
       "  </thead>\n",
       "  <tbody>\n",
       "    <tr>\n",
       "      <th>0</th>\n",
       "      <td>130.50</td>\n",
       "      <td>4743.6</td>\n",
       "      <td>owner</td>\n",
       "    </tr>\n",
       "    <tr>\n",
       "      <th>1</th>\n",
       "      <td>117.45</td>\n",
       "      <td>4554.8</td>\n",
       "      <td>owner</td>\n",
       "    </tr>\n",
       "    <tr>\n",
       "      <th>2</th>\n",
       "      <td>76.50</td>\n",
       "      <td>4422.0</td>\n",
       "      <td>owner</td>\n",
       "    </tr>\n",
       "    <tr>\n",
       "      <th>3</th>\n",
       "      <td>97.20</td>\n",
       "      <td>4341.6</td>\n",
       "      <td>owner</td>\n",
       "    </tr>\n",
       "    <tr>\n",
       "      <th>4</th>\n",
       "      <td>111.78</td>\n",
       "      <td>4323.2</td>\n",
       "      <td>owner</td>\n",
       "    </tr>\n",
       "    <tr>\n",
       "      <th>5</th>\n",
       "      <td>68.85</td>\n",
       "      <td>4246.0</td>\n",
       "      <td>owner</td>\n",
       "    </tr>\n",
       "    <tr>\n",
       "      <th>6</th>\n",
       "      <td>92.25</td>\n",
       "      <td>4180.8</td>\n",
       "      <td>owner</td>\n",
       "    </tr>\n",
       "    <tr>\n",
       "      <th>7</th>\n",
       "      <td>87.48</td>\n",
       "      <td>4168.8</td>\n",
       "      <td>owner</td>\n",
       "    </tr>\n",
       "    <tr>\n",
       "      <th>8</th>\n",
       "      <td>103.50</td>\n",
       "      <td>4020.0</td>\n",
       "      <td>owner</td>\n",
       "    </tr>\n",
       "    <tr>\n",
       "      <th>9</th>\n",
       "      <td>121.50</td>\n",
       "      <td>4020.0</td>\n",
       "      <td>owner</td>\n",
       "    </tr>\n",
       "  </tbody>\n",
       "</table>\n",
       "</div>"
      ],
      "text/plain": [
       "   IncomeKs    Sqft SecuritySystemOwner\n",
       "0    130.50  4743.6               owner\n",
       "1    117.45  4554.8               owner\n",
       "2     76.50  4422.0               owner\n",
       "3     97.20  4341.6               owner\n",
       "4    111.78  4323.2               owner\n",
       "5     68.85  4246.0               owner\n",
       "6     92.25  4180.8               owner\n",
       "7     87.48  4168.8               owner\n",
       "8    103.50  4020.0               owner\n",
       "9    121.50  4020.0               owner"
      ]
     },
     "execution_count": 7,
     "metadata": {},
     "output_type": "execute_result"
    }
   ],
   "source": [
    "df.head(10)"
   ]
  },
  {
   "cell_type": "code",
   "execution_count": 9,
   "id": "f482c25a",
   "metadata": {},
   "outputs": [
    {
     "data": {
      "text/html": [
       "<div>\n",
       "<style scoped>\n",
       "    .dataframe tbody tr th:only-of-type {\n",
       "        vertical-align: middle;\n",
       "    }\n",
       "\n",
       "    .dataframe tbody tr th {\n",
       "        vertical-align: top;\n",
       "    }\n",
       "\n",
       "    .dataframe thead th {\n",
       "        text-align: right;\n",
       "    }\n",
       "</style>\n",
       "<table border=\"1\" class=\"dataframe\">\n",
       "  <thead>\n",
       "    <tr style=\"text-align: right;\">\n",
       "      <th></th>\n",
       "      <th>index</th>\n",
       "      <th>SecuritySystemOwner</th>\n",
       "    </tr>\n",
       "  </thead>\n",
       "  <tbody>\n",
       "    <tr>\n",
       "      <th>0</th>\n",
       "      <td>owner</td>\n",
       "      <td>24</td>\n",
       "    </tr>\n",
       "    <tr>\n",
       "      <th>1</th>\n",
       "      <td>nonowner</td>\n",
       "      <td>24</td>\n",
       "    </tr>\n",
       "  </tbody>\n",
       "</table>\n",
       "</div>"
      ],
      "text/plain": [
       "      index  SecuritySystemOwner\n",
       "0     owner                   24\n",
       "1  nonowner                   24"
      ]
     },
     "execution_count": 9,
     "metadata": {},
     "output_type": "execute_result"
    }
   ],
   "source": [
    "df.SecuritySystemOwner.value_counts().reset_index()"
   ]
  },
  {
   "cell_type": "code",
   "execution_count": 10,
   "id": "3aeb8785",
   "metadata": {},
   "outputs": [
    {
     "data": {
      "text/html": [
       "<div>\n",
       "<style scoped>\n",
       "    .dataframe tbody tr th:only-of-type {\n",
       "        vertical-align: middle;\n",
       "    }\n",
       "\n",
       "    .dataframe tbody tr th {\n",
       "        vertical-align: top;\n",
       "    }\n",
       "\n",
       "    .dataframe thead th {\n",
       "        text-align: right;\n",
       "    }\n",
       "</style>\n",
       "<table border=\"1\" class=\"dataframe\">\n",
       "  <thead>\n",
       "    <tr style=\"text-align: right;\">\n",
       "      <th></th>\n",
       "      <th>IncomeKs</th>\n",
       "      <th>Sqft</th>\n",
       "      <th>SecuritySystemOwner</th>\n",
       "    </tr>\n",
       "  </thead>\n",
       "  <tbody>\n",
       "    <tr>\n",
       "      <th>43</th>\n",
       "      <td>77.22</td>\n",
       "      <td>2400.0</td>\n",
       "      <td>nonowner</td>\n",
       "    </tr>\n",
       "    <tr>\n",
       "      <th>44</th>\n",
       "      <td>74.25</td>\n",
       "      <td>2400.0</td>\n",
       "      <td>nonowner</td>\n",
       "    </tr>\n",
       "    <tr>\n",
       "      <th>45</th>\n",
       "      <td>81.90</td>\n",
       "      <td>2220.0</td>\n",
       "      <td>nonowner</td>\n",
       "    </tr>\n",
       "    <tr>\n",
       "      <th>46</th>\n",
       "      <td>78.75</td>\n",
       "      <td>2220.0</td>\n",
       "      <td>nonowner</td>\n",
       "    </tr>\n",
       "    <tr>\n",
       "      <th>47</th>\n",
       "      <td>63.75</td>\n",
       "      <td>2100.0</td>\n",
       "      <td>nonowner</td>\n",
       "    </tr>\n",
       "  </tbody>\n",
       "</table>\n",
       "</div>"
      ],
      "text/plain": [
       "    IncomeKs    Sqft SecuritySystemOwner\n",
       "43     77.22  2400.0            nonowner\n",
       "44     74.25  2400.0            nonowner\n",
       "45     81.90  2220.0            nonowner\n",
       "46     78.75  2220.0            nonowner\n",
       "47     63.75  2100.0            nonowner"
      ]
     },
     "execution_count": 10,
     "metadata": {},
     "output_type": "execute_result"
    }
   ],
   "source": [
    "df.tail()"
   ]
  },
  {
   "cell_type": "code",
   "execution_count": 16,
   "id": "9b2ec8c0",
   "metadata": {},
   "outputs": [
    {
     "data": {
      "text/plain": [
       "IncomeKs               float64\n",
       "Sqft                   float64\n",
       "SecuritySystemOwner     object\n",
       "dtype: object"
      ]
     },
     "execution_count": 16,
     "metadata": {},
     "output_type": "execute_result"
    }
   ],
   "source": [
    "df.dtypes"
   ]
  },
  {
   "cell_type": "code",
   "execution_count": 17,
   "id": "9a44b6e4",
   "metadata": {},
   "outputs": [
    {
     "data": {
      "text/html": [
       "<div>\n",
       "<style scoped>\n",
       "    .dataframe tbody tr th:only-of-type {\n",
       "        vertical-align: middle;\n",
       "    }\n",
       "\n",
       "    .dataframe tbody tr th {\n",
       "        vertical-align: top;\n",
       "    }\n",
       "\n",
       "    .dataframe thead th {\n",
       "        text-align: right;\n",
       "    }\n",
       "</style>\n",
       "<table border=\"1\" class=\"dataframe\">\n",
       "  <thead>\n",
       "    <tr style=\"text-align: right;\">\n",
       "      <th></th>\n",
       "      <th>IncomeKs</th>\n",
       "      <th>Sqft</th>\n",
       "    </tr>\n",
       "  </thead>\n",
       "  <tbody>\n",
       "    <tr>\n",
       "      <th>count</th>\n",
       "      <td>48.000000</td>\n",
       "      <td>48.000000</td>\n",
       "    </tr>\n",
       "    <tr>\n",
       "      <th>mean</th>\n",
       "      <td>93.218437</td>\n",
       "      <td>3268.700000</td>\n",
       "    </tr>\n",
       "    <tr>\n",
       "      <th>std</th>\n",
       "      <td>30.298050</td>\n",
       "      <td>756.446139</td>\n",
       "    </tr>\n",
       "    <tr>\n",
       "      <th>min</th>\n",
       "      <td>41.250000</td>\n",
       "      <td>2100.000000</td>\n",
       "    </tr>\n",
       "    <tr>\n",
       "      <th>25%</th>\n",
       "      <td>68.797500</td>\n",
       "      <td>2640.000000</td>\n",
       "    </tr>\n",
       "    <tr>\n",
       "      <th>50%</th>\n",
       "      <td>86.640000</td>\n",
       "      <td>3090.000000</td>\n",
       "    </tr>\n",
       "    <tr>\n",
       "      <th>75%</th>\n",
       "      <td>112.691250</td>\n",
       "      <td>4015.800000</td>\n",
       "    </tr>\n",
       "    <tr>\n",
       "      <th>max</th>\n",
       "      <td>165.150000</td>\n",
       "      <td>4743.600000</td>\n",
       "    </tr>\n",
       "  </tbody>\n",
       "</table>\n",
       "</div>"
      ],
      "text/plain": [
       "         IncomeKs         Sqft\n",
       "count   48.000000    48.000000\n",
       "mean    93.218437  3268.700000\n",
       "std     30.298050   756.446139\n",
       "min     41.250000  2100.000000\n",
       "25%     68.797500  2640.000000\n",
       "50%     86.640000  3090.000000\n",
       "75%    112.691250  4015.800000\n",
       "max    165.150000  4743.600000"
      ]
     },
     "execution_count": 17,
     "metadata": {},
     "output_type": "execute_result"
    }
   ],
   "source": [
    "df.describe()"
   ]
  },
  {
   "cell_type": "code",
   "execution_count": 100,
   "id": "fd9018d8",
   "metadata": {},
   "outputs": [
    {
     "data": {
      "text/html": [
       "<div>\n",
       "<style scoped>\n",
       "    .dataframe tbody tr th:only-of-type {\n",
       "        vertical-align: middle;\n",
       "    }\n",
       "\n",
       "    .dataframe tbody tr th {\n",
       "        vertical-align: top;\n",
       "    }\n",
       "\n",
       "    .dataframe thead th {\n",
       "        text-align: right;\n",
       "    }\n",
       "</style>\n",
       "<table border=\"1\" class=\"dataframe\">\n",
       "  <thead>\n",
       "    <tr style=\"text-align: right;\">\n",
       "      <th></th>\n",
       "      <th>IncomeKs</th>\n",
       "      <th>Sqft</th>\n",
       "      <th>SecuritySystemOwner</th>\n",
       "    </tr>\n",
       "  </thead>\n",
       "  <tbody>\n",
       "    <tr>\n",
       "      <th>0</th>\n",
       "      <td>130.50</td>\n",
       "      <td>4743.6</td>\n",
       "      <td>0</td>\n",
       "    </tr>\n",
       "    <tr>\n",
       "      <th>1</th>\n",
       "      <td>117.45</td>\n",
       "      <td>4554.8</td>\n",
       "      <td>0</td>\n",
       "    </tr>\n",
       "    <tr>\n",
       "      <th>2</th>\n",
       "      <td>76.50</td>\n",
       "      <td>4422.0</td>\n",
       "      <td>0</td>\n",
       "    </tr>\n",
       "    <tr>\n",
       "      <th>3</th>\n",
       "      <td>97.20</td>\n",
       "      <td>4341.6</td>\n",
       "      <td>0</td>\n",
       "    </tr>\n",
       "    <tr>\n",
       "      <th>4</th>\n",
       "      <td>111.78</td>\n",
       "      <td>4323.2</td>\n",
       "      <td>0</td>\n",
       "    </tr>\n",
       "  </tbody>\n",
       "</table>\n",
       "</div>"
      ],
      "text/plain": [
       "   IncomeKs    Sqft  SecuritySystemOwner\n",
       "0    130.50  4743.6                    0\n",
       "1    117.45  4554.8                    0\n",
       "2     76.50  4422.0                    0\n",
       "3     97.20  4341.6                    0\n",
       "4    111.78  4323.2                    0"
      ]
     },
     "execution_count": 100,
     "metadata": {},
     "output_type": "execute_result"
    }
   ],
   "source": [
    "df['SecuritySystemOwner'].replace({'owner':0,'nonowner':1}, inplace=True)\n",
    "df.head()"
   ]
  },
  {
   "cell_type": "code",
   "execution_count": 28,
   "id": "2a527d47",
   "metadata": {},
   "outputs": [
    {
     "data": {
      "text/html": [
       "<div>\n",
       "<style scoped>\n",
       "    .dataframe tbody tr th:only-of-type {\n",
       "        vertical-align: middle;\n",
       "    }\n",
       "\n",
       "    .dataframe tbody tr th {\n",
       "        vertical-align: top;\n",
       "    }\n",
       "\n",
       "    .dataframe thead th {\n",
       "        text-align: right;\n",
       "    }\n",
       "</style>\n",
       "<table border=\"1\" class=\"dataframe\">\n",
       "  <thead>\n",
       "    <tr style=\"text-align: right;\">\n",
       "      <th></th>\n",
       "      <th>IncomeKs</th>\n",
       "      <th>Sqft</th>\n",
       "      <th>SecuritySystemOwner</th>\n",
       "    </tr>\n",
       "  </thead>\n",
       "  <tbody>\n",
       "    <tr>\n",
       "      <th>IncomeKs</th>\n",
       "      <td>1.000000</td>\n",
       "      <td>0.195825</td>\n",
       "      <td>-0.668209</td>\n",
       "    </tr>\n",
       "    <tr>\n",
       "      <th>Sqft</th>\n",
       "      <td>0.195825</td>\n",
       "      <td>1.000000</td>\n",
       "      <td>-0.616145</td>\n",
       "    </tr>\n",
       "    <tr>\n",
       "      <th>SecuritySystemOwner</th>\n",
       "      <td>-0.668209</td>\n",
       "      <td>-0.616145</td>\n",
       "      <td>1.000000</td>\n",
       "    </tr>\n",
       "  </tbody>\n",
       "</table>\n",
       "</div>"
      ],
      "text/plain": [
       "                     IncomeKs      Sqft  SecuritySystemOwner\n",
       "IncomeKs             1.000000  0.195825            -0.668209\n",
       "Sqft                 0.195825  1.000000            -0.616145\n",
       "SecuritySystemOwner -0.668209 -0.616145             1.000000"
      ]
     },
     "execution_count": 28,
     "metadata": {},
     "output_type": "execute_result"
    }
   ],
   "source": [
    "df.corr()"
   ]
  },
  {
   "cell_type": "code",
   "execution_count": 60,
   "id": "a9762046",
   "metadata": {},
   "outputs": [],
   "source": [
    "Data_x= df[['IncomeKs', 'Sqft']]\n",
    "Data_y=df[['SecuritySystemOwner']]"
   ]
  },
  {
   "cell_type": "code",
   "execution_count": 61,
   "id": "f1266ec0",
   "metadata": {},
   "outputs": [
    {
     "name": "stdout",
     "output_type": "stream",
     "text": [
      "Optimization terminated successfully.\n",
      "         Current function value: 0.077241\n",
      "         Iterations 12\n",
      "                            Logit Regression Results                           \n",
      "===============================================================================\n",
      "Dep. Variable:     SecuritySystemOwner   No. Observations:                   48\n",
      "Model:                           Logit   Df Residuals:                       45\n",
      "Method:                            MLE   Df Model:                            2\n",
      "Date:                 Sat, 12 Nov 2022   Pseudo R-squ.:                  0.8886\n",
      "Time:                         12:15:00   Log-Likelihood:                -3.7076\n",
      "converged:                        True   LL-Null:                       -33.271\n",
      "Covariance Type:             nonrobust   LLR p-value:                 1.448e-13\n",
      "==============================================================================\n",
      "                 coef    std err          z      P>|z|      [0.025      0.975]\n",
      "------------------------------------------------------------------------------\n",
      "const         89.7547     52.058      1.724      0.085     -12.276     191.786\n",
      "IncomeKs      -0.4868      0.285     -1.707      0.088      -1.046       0.072\n",
      "Sqft          -0.0136      0.008     -1.712      0.087      -0.029       0.002\n",
      "==============================================================================\n",
      "\n",
      "Possibly complete quasi-separation: A fraction 0.71 of observations can be\n",
      "perfectly predicted. This might indicate that there is complete\n",
      "quasi-separation. In this case some parameters will not be identified.\n"
     ]
    }
   ],
   "source": [
    "import statsmodels.api as sm\n",
    "logit_model=sm.Logit(Data_y,sm.add_constant(Data_x))\n",
    "result=logit_model.fit()\n",
    "print(result.summary())"
   ]
  },
  {
   "cell_type": "markdown",
   "id": "15c1aa9f",
   "metadata": {},
   "source": [
    "# Train Test split"
   ]
  },
  {
   "cell_type": "code",
   "execution_count": 52,
   "id": "d3d6499b",
   "metadata": {},
   "outputs": [
    {
     "data": {
      "text/plain": [
       "LogisticRegression()"
      ]
     },
     "execution_count": 52,
     "metadata": {},
     "output_type": "execute_result"
    }
   ],
   "source": [
    "from sklearn.linear_model import LogisticRegression\n",
    "from sklearn.model_selection import train_test_split  \n",
    "from sklearn import metrics\n",
    "\n",
    "Dx_train, Dx_test, Dy_train, Dy_test = train_test_split(Data_x, Data_y, test_size=0.5, random_state=100)\n",
    "logisticreg = LogisticRegression(solver='lbfgs')\n",
    "logisticreg.fit(Dx_train, np.ravel(Dy_train))"
   ]
  },
  {
   "cell_type": "code",
   "execution_count": 53,
   "id": "b43065dc",
   "metadata": {},
   "outputs": [
    {
     "data": {
      "text/plain": [
       "0.9583333333333334"
      ]
     },
     "execution_count": 53,
     "metadata": {},
     "output_type": "execute_result"
    }
   ],
   "source": [
    "score= logisticreg.score(Dx_test,Dy_test)\n",
    "score"
   ]
  },
  {
   "cell_type": "code",
   "execution_count": 54,
   "id": "8b331480",
   "metadata": {},
   "outputs": [],
   "source": [
    "y_pred= logisticreg.predict(Dx_test)"
   ]
  },
  {
   "cell_type": "code",
   "execution_count": 55,
   "id": "00a03daf",
   "metadata": {},
   "outputs": [
    {
     "name": "stdout",
     "output_type": "stream",
     "text": [
      "[[11  0]\n",
      " [ 1 12]]\n"
     ]
    }
   ],
   "source": [
    "from sklearn.metrics import confusion_matrix\n",
    "confusion_matrix = confusion_matrix(Dy_test, y_pred)\n",
    "print(confusion_matrix)"
   ]
  },
  {
   "cell_type": "markdown",
   "id": "26fc433c",
   "metadata": {},
   "source": [
    "# Decision Tree"
   ]
  },
  {
   "cell_type": "code",
   "execution_count": 64,
   "id": "39a59062",
   "metadata": {},
   "outputs": [],
   "source": [
    "from sklearn.tree import DecisionTreeClassifier, export_graphviz\n",
    "from sklearn import tree\n"
   ]
  },
  {
   "cell_type": "code",
   "execution_count": 65,
   "id": "ba71fb5b",
   "metadata": {},
   "outputs": [],
   "source": [
    "DTX_train, DTX_test, DTY_train, DTY_test = train_test_split(Data_x, Data_y, test_size=0.5, random_state=100)"
   ]
  },
  {
   "cell_type": "code",
   "execution_count": 66,
   "id": "c5150bc3",
   "metadata": {},
   "outputs": [],
   "source": [
    "dtclf3 = tree.DecisionTreeClassifier()\n",
    "dtclf3 = dtclf3.fit(DTX_train, DTY_train)"
   ]
  },
  {
   "cell_type": "code",
   "execution_count": 69,
   "id": "047e0ad9",
   "metadata": {},
   "outputs": [],
   "source": [
    "y_pred= dtclf3.predict(DTX_test)"
   ]
  },
  {
   "cell_type": "code",
   "execution_count": 70,
   "id": "00823eff",
   "metadata": {},
   "outputs": [
    {
     "name": "stdout",
     "output_type": "stream",
     "text": [
      "[[10  1]\n",
      " [ 0 13]]\n"
     ]
    }
   ],
   "source": [
    "from sklearn.metrics import confusion_matrix\n",
    "confusion_matrix = confusion_matrix(DTY_test, y_pred)\n",
    "print(confusion_matrix)"
   ]
  },
  {
   "cell_type": "code",
   "execution_count": 72,
   "id": "db356900",
   "metadata": {},
   "outputs": [
    {
     "data": {
      "text/plain": [
       "0.9583333333333334"
      ]
     },
     "execution_count": 72,
     "metadata": {},
     "output_type": "execute_result"
    }
   ],
   "source": [
    "score= dtclf3.score(DTX_test, DTY_test)\n",
    "score"
   ]
  },
  {
   "cell_type": "markdown",
   "id": "aa638071",
   "metadata": {},
   "source": [
    "# Naive Bayes"
   ]
  },
  {
   "cell_type": "code",
   "execution_count": 88,
   "id": "b57921af",
   "metadata": {},
   "outputs": [],
   "source": [
    "DataX = df[['IncomeKs', 'Sqft']]\n",
    "DataY = df[['SecuritySystemOwner']]"
   ]
  },
  {
   "cell_type": "code",
   "execution_count": 95,
   "id": "5f92ed19",
   "metadata": {},
   "outputs": [],
   "source": [
    "NBX_train, NBX_test, NBY_train, NBY_test = train_test_split(DataX, DataY, test_size=0.5, random_state=100)"
   ]
  },
  {
   "cell_type": "code",
   "execution_count": 96,
   "id": "51eb16a6",
   "metadata": {},
   "outputs": [],
   "source": [
    "from sklearn.naive_bayes import BernoulliNB\n",
    "from sklearn.naive_bayes import GaussianNB"
   ]
  },
  {
   "cell_type": "code",
   "execution_count": 97,
   "id": "3418ea5e",
   "metadata": {},
   "outputs": [
    {
     "data": {
      "text/plain": [
       "BernoulliNB()"
      ]
     },
     "execution_count": 97,
     "metadata": {},
     "output_type": "execute_result"
    }
   ],
   "source": [
    "#Create a Classifier and Train the model\n",
    "BERNmodel = BernoulliNB()\n",
    "#GAUSSmodel = GaussianNB()\n",
    "\n",
    "# If the other variables were continuous, I would use GaussianNB()\n",
    "BERNmodel.fit(NBX_train, np.ravel(NBY_train))\n",
    "#GAUSSmodel.fit(NBX_train, np.ravel(NBY_train))"
   ]
  },
  {
   "cell_type": "code",
   "execution_count": 98,
   "id": "e028a34a",
   "metadata": {},
   "outputs": [
    {
     "name": "stdout",
     "output_type": "stream",
     "text": [
      "[[11  0]\n",
      " [13  0]]\n"
     ]
    }
   ],
   "source": [
    "from sklearn.metrics import confusion_matrix\n",
    "\n",
    "#Predict Bernoulli Output \n",
    "NBERNY_pred = BERNmodel.predict(NBX_test)\n",
    "#NGaussY_pred = GAUSSmodel.predict(NBX_test)\n",
    "\n",
    "NBERNConfusion_Matrix = confusion_matrix(NBY_test, NBERNY_pred)\n",
    "#NGaussConfusion_Matrix = confusion_matrix(NBY_test, NGaussY_pred)\n",
    "\n",
    "print(NBERNConfusion_Matrix)\n"
   ]
  },
  {
   "cell_type": "code",
   "execution_count": 99,
   "id": "8082611d",
   "metadata": {},
   "outputs": [
    {
     "data": {
      "text/plain": [
       "0.4583333333333333"
      ]
     },
     "execution_count": 99,
     "metadata": {},
     "output_type": "execute_result"
    }
   ],
   "source": [
    "BERNmodel.score(NBX_test, NBY_test)\n"
   ]
  },
  {
   "cell_type": "markdown",
   "id": "58e813a6",
   "metadata": {},
   "source": [
    "# KNN"
   ]
  },
  {
   "cell_type": "code",
   "execution_count": 74,
   "id": "2a41e466",
   "metadata": {},
   "outputs": [],
   "source": [
    "DataX = df[['IncomeKs','Sqft']]\n",
    "DataY = df[['SecuritySystemOwner']]"
   ]
  },
  {
   "cell_type": "code",
   "execution_count": 77,
   "id": "2e05d35e",
   "metadata": {},
   "outputs": [],
   "source": [
    "normalized_DataX=(DataX-DataX.min())/(DataX.max()-DataX.min())"
   ]
  },
  {
   "cell_type": "code",
   "execution_count": 83,
   "id": "766fcafc",
   "metadata": {},
   "outputs": [],
   "source": [
    "from sklearn.model_selection import train_test_split\n",
    "\n",
    "X_train, X_test, y_train, y_test = train_test_split(normalized_DataX, DataY, test_size=0.5, random_state=100)"
   ]
  },
  {
   "cell_type": "code",
   "execution_count": 84,
   "id": "116f278e",
   "metadata": {},
   "outputs": [
    {
     "data": {
      "text/plain": [
       "KNeighborsClassifier(n_neighbors=7)"
      ]
     },
     "execution_count": 84,
     "metadata": {},
     "output_type": "execute_result"
    }
   ],
   "source": [
    "from sklearn.neighbors import KNeighborsClassifier\n",
    "knn = KNeighborsClassifier(n_neighbors = 7)\n",
    "knn.fit(X_train, np.ravel(y_train))"
   ]
  },
  {
   "cell_type": "code",
   "execution_count": 85,
   "id": "26fc9ecf",
   "metadata": {},
   "outputs": [
    {
     "data": {
      "text/plain": [
       "0.9166666666666666"
      ]
     },
     "execution_count": 85,
     "metadata": {},
     "output_type": "execute_result"
    }
   ],
   "source": [
    "knn.score(X_test, y_test)"
   ]
  },
  {
   "cell_type": "code",
   "execution_count": 86,
   "id": "a1c0504c",
   "metadata": {},
   "outputs": [],
   "source": [
    "Y_pred = knn.predict(X_test)"
   ]
  },
  {
   "cell_type": "code",
   "execution_count": 87,
   "id": "69aac9e9",
   "metadata": {},
   "outputs": [
    {
     "name": "stdout",
     "output_type": "stream",
     "text": [
      "[[10  1]\n",
      " [ 1 12]]\n"
     ]
    }
   ],
   "source": [
    "from sklearn.metrics import confusion_matrix\n",
    "Confusion_Matrix = confusion_matrix(y_test, Y_pred)\n",
    "print(Confusion_Matrix)"
   ]
  },
  {
   "cell_type": "markdown",
   "id": "3d81c2d2",
   "metadata": {},
   "source": [
    "# Bank data"
   ]
  },
  {
   "cell_type": "markdown",
   "id": "1ee87a8c",
   "metadata": {},
   "source": [
    "# Logistic Regression"
   ]
  },
  {
   "cell_type": "code",
   "execution_count": 101,
   "id": "fe5509dd",
   "metadata": {},
   "outputs": [
    {
     "data": {
      "text/plain": [
       "(4521, 7)"
      ]
     },
     "execution_count": 101,
     "metadata": {},
     "output_type": "execute_result"
    }
   ],
   "source": [
    "dfbank = pd.read_csv(\"bank_promo.csv\")\n",
    "dfbank.shape"
   ]
  },
  {
   "cell_type": "code",
   "execution_count": 102,
   "id": "05a0087c",
   "metadata": {},
   "outputs": [
    {
     "data": {
      "text/html": [
       "<div>\n",
       "<style scoped>\n",
       "    .dataframe tbody tr th:only-of-type {\n",
       "        vertical-align: middle;\n",
       "    }\n",
       "\n",
       "    .dataframe tbody tr th {\n",
       "        vertical-align: top;\n",
       "    }\n",
       "\n",
       "    .dataframe thead th {\n",
       "        text-align: right;\n",
       "    }\n",
       "</style>\n",
       "<table border=\"1\" class=\"dataframe\">\n",
       "  <thead>\n",
       "    <tr style=\"text-align: right;\">\n",
       "      <th></th>\n",
       "      <th>job_mgmt</th>\n",
       "      <th>married</th>\n",
       "      <th>ps_edu</th>\n",
       "      <th>hous_loan</th>\n",
       "      <th>pers_loan</th>\n",
       "      <th>priorcontacts</th>\n",
       "      <th>subscribed</th>\n",
       "    </tr>\n",
       "  </thead>\n",
       "  <tbody>\n",
       "    <tr>\n",
       "      <th>job_mgmt</th>\n",
       "      <td>1.000000</td>\n",
       "      <td>-0.047153</td>\n",
       "      <td>0.586132</td>\n",
       "      <td>-0.049460</td>\n",
       "      <td>-0.042099</td>\n",
       "      <td>0.047123</td>\n",
       "      <td>0.038234</td>\n",
       "    </tr>\n",
       "    <tr>\n",
       "      <th>married</th>\n",
       "      <td>-0.047153</td>\n",
       "      <td>1.000000</td>\n",
       "      <td>-0.107669</td>\n",
       "      <td>0.038432</td>\n",
       "      <td>0.032272</td>\n",
       "      <td>0.017459</td>\n",
       "      <td>-0.057971</td>\n",
       "    </tr>\n",
       "    <tr>\n",
       "      <th>ps_edu</th>\n",
       "      <td>0.586132</td>\n",
       "      <td>-0.107669</td>\n",
       "      <td>1.000000</td>\n",
       "      <td>-0.098624</td>\n",
       "      <td>-0.043434</td>\n",
       "      <td>0.036932</td>\n",
       "      <td>0.058327</td>\n",
       "    </tr>\n",
       "    <tr>\n",
       "      <th>hous_loan</th>\n",
       "      <td>-0.049460</td>\n",
       "      <td>0.038432</td>\n",
       "      <td>-0.098624</td>\n",
       "      <td>1.000000</td>\n",
       "      <td>0.018451</td>\n",
       "      <td>-0.007962</td>\n",
       "      <td>-0.106946</td>\n",
       "    </tr>\n",
       "    <tr>\n",
       "      <th>pers_loan</th>\n",
       "      <td>-0.042099</td>\n",
       "      <td>0.032272</td>\n",
       "      <td>-0.043434</td>\n",
       "      <td>0.018451</td>\n",
       "      <td>1.000000</td>\n",
       "      <td>-0.013742</td>\n",
       "      <td>-0.068750</td>\n",
       "    </tr>\n",
       "    <tr>\n",
       "      <th>priorcontacts</th>\n",
       "      <td>0.047123</td>\n",
       "      <td>0.017459</td>\n",
       "      <td>0.036932</td>\n",
       "      <td>-0.007962</td>\n",
       "      <td>-0.013742</td>\n",
       "      <td>1.000000</td>\n",
       "      <td>0.025403</td>\n",
       "    </tr>\n",
       "    <tr>\n",
       "      <th>subscribed</th>\n",
       "      <td>0.038234</td>\n",
       "      <td>-0.057971</td>\n",
       "      <td>0.058327</td>\n",
       "      <td>-0.106946</td>\n",
       "      <td>-0.068750</td>\n",
       "      <td>0.025403</td>\n",
       "      <td>1.000000</td>\n",
       "    </tr>\n",
       "  </tbody>\n",
       "</table>\n",
       "</div>"
      ],
      "text/plain": [
       "               job_mgmt   married    ps_edu  hous_loan  pers_loan  \\\n",
       "job_mgmt       1.000000 -0.047153  0.586132  -0.049460  -0.042099   \n",
       "married       -0.047153  1.000000 -0.107669   0.038432   0.032272   \n",
       "ps_edu         0.586132 -0.107669  1.000000  -0.098624  -0.043434   \n",
       "hous_loan     -0.049460  0.038432 -0.098624   1.000000   0.018451   \n",
       "pers_loan     -0.042099  0.032272 -0.043434   0.018451   1.000000   \n",
       "priorcontacts  0.047123  0.017459  0.036932  -0.007962  -0.013742   \n",
       "subscribed     0.038234 -0.057971  0.058327  -0.106946  -0.068750   \n",
       "\n",
       "               priorcontacts  subscribed  \n",
       "job_mgmt            0.047123    0.038234  \n",
       "married             0.017459   -0.057971  \n",
       "ps_edu              0.036932    0.058327  \n",
       "hous_loan          -0.007962   -0.106946  \n",
       "pers_loan          -0.013742   -0.068750  \n",
       "priorcontacts       1.000000    0.025403  \n",
       "subscribed          0.025403    1.000000  "
      ]
     },
     "execution_count": 102,
     "metadata": {},
     "output_type": "execute_result"
    }
   ],
   "source": [
    "dfbank.corr(method = 'spearman')"
   ]
  },
  {
   "cell_type": "code",
   "execution_count": 103,
   "id": "b3020ac4",
   "metadata": {},
   "outputs": [],
   "source": [
    "Bank_DataX = dfbank[['job_mgmt','married','ps_edu','hous_loan','pers_loan', 'priorcontacts']]\n",
    "Bank_DataY = dfbank[['subscribed']]"
   ]
  },
  {
   "cell_type": "code",
   "execution_count": 104,
   "id": "7a3eb4ad",
   "metadata": {},
   "outputs": [
    {
     "data": {
      "text/plain": [
       "LogisticRegression()"
      ]
     },
     "execution_count": 104,
     "metadata": {},
     "output_type": "execute_result"
    }
   ],
   "source": [
    "from sklearn.linear_model import LogisticRegression\n",
    "from sklearn.model_selection import train_test_split  \n",
    "from sklearn import metrics\n",
    "\n",
    "BankX_train, BankX_test, BankY_train, BankY_test = train_test_split(Bank_DataX, Bank_DataY, test_size=0.5, random_state=50)\n",
    "bank_logisticreg = LogisticRegression(solver='lbfgs')\n",
    "bank_logisticreg.fit(BankX_train, np.ravel(BankY_train))"
   ]
  },
  {
   "cell_type": "code",
   "execution_count": 107,
   "id": "e307713e",
   "metadata": {},
   "outputs": [],
   "source": [
    "BankY_pred= bank_logisticreg.predict(BankX_test)"
   ]
  },
  {
   "cell_type": "code",
   "execution_count": 109,
   "id": "76d03045",
   "metadata": {},
   "outputs": [
    {
     "name": "stdout",
     "output_type": "stream",
     "text": [
      "[[1978    0]\n",
      " [ 283    0]]\n"
     ]
    }
   ],
   "source": [
    "from sklearn.metrics import confusion_matrix\n",
    "confusion_matrix = confusion_matrix(BankY_test, BankY_pred)\n",
    "print(confusion_matrix)"
   ]
  },
  {
   "cell_type": "code",
   "execution_count": 110,
   "id": "41208bbd",
   "metadata": {},
   "outputs": [
    {
     "data": {
      "text/plain": [
       "0.8748341441839894"
      ]
     },
     "execution_count": 110,
     "metadata": {},
     "output_type": "execute_result"
    }
   ],
   "source": [
    "bank_logisticreg.score(BankX_test, BankY_test)"
   ]
  },
  {
   "cell_type": "markdown",
   "id": "bf582105",
   "metadata": {},
   "source": [
    "# Decision Tree"
   ]
  },
  {
   "cell_type": "code",
   "execution_count": 111,
   "id": "8b394d0b",
   "metadata": {},
   "outputs": [],
   "source": [
    "from sklearn.tree import DecisionTreeClassifier, export_graphviz\n",
    "from sklearn import tree"
   ]
  },
  {
   "cell_type": "code",
   "execution_count": 112,
   "id": "3281f8ed",
   "metadata": {},
   "outputs": [],
   "source": [
    "DTDataX = dfbank[['job_mgmt','married','ps_edu','hous_loan','pers_loan','priorcontacts']]\n",
    "DTDataY = dfbank[['subscribed']]\n",
    "\n",
    "dtclf2 = tree.DecisionTreeClassifier()\n",
    "dtclf2 = dtclf2.fit(DTDataX, DTDataY)"
   ]
  },
  {
   "cell_type": "code",
   "execution_count": 113,
   "id": "7dd112d8",
   "metadata": {},
   "outputs": [],
   "source": [
    "BPromo_feature_names = ['job_mgmt','married','ps_edu','hous_loan','pers_loan','priorcontacts']\n",
    "BPromo_target_names = ['NotSub','Sub']"
   ]
  },
  {
   "cell_type": "code",
   "execution_count": 114,
   "id": "fbd848c6",
   "metadata": {},
   "outputs": [],
   "source": [
    "DTX_train, DTX_test, DTY_train, DTY_test = train_test_split(DTDataX, DTDataY, test_size=0.5, random_state=50)"
   ]
  },
  {
   "cell_type": "code",
   "execution_count": 115,
   "id": "8e8bfa5a",
   "metadata": {},
   "outputs": [],
   "source": [
    "dtclf3 = tree.DecisionTreeClassifier()\n",
    "dtclf3 = dtclf3.fit(DTX_train, DTY_train)"
   ]
  },
  {
   "cell_type": "code",
   "execution_count": 116,
   "id": "019f1b05",
   "metadata": {},
   "outputs": [],
   "source": [
    "DTY_pred = dtclf3.predict(DTX_test)"
   ]
  },
  {
   "cell_type": "code",
   "execution_count": 117,
   "id": "09aaa2a4",
   "metadata": {},
   "outputs": [
    {
     "data": {
      "text/plain": [
       "0.8646616541353384"
      ]
     },
     "execution_count": 117,
     "metadata": {},
     "output_type": "execute_result"
    }
   ],
   "source": [
    "dtclf3.score(DTX_test,DTY_test)\n"
   ]
  },
  {
   "cell_type": "code",
   "execution_count": 118,
   "id": "fd291978",
   "metadata": {},
   "outputs": [
    {
     "name": "stdout",
     "output_type": "stream",
     "text": [
      "[[1950   28]\n",
      " [ 278    5]]\n"
     ]
    }
   ],
   "source": [
    "from sklearn.metrics import confusion_matrix\n",
    "confusion_matrix = confusion_matrix(DTY_test, DTY_pred)\n",
    "print(confusion_matrix)"
   ]
  },
  {
   "cell_type": "markdown",
   "id": "95b74881",
   "metadata": {},
   "source": [
    "# Naive Bayes"
   ]
  },
  {
   "cell_type": "code",
   "execution_count": 120,
   "id": "f60c0abf",
   "metadata": {},
   "outputs": [],
   "source": [
    "NBDataX = dfbank[['job_mgmt','married','ps_edu','hous_loan','pers_loan','priorcontacts']]\n",
    "NBDataY = dfbank[['subscribed']]"
   ]
  },
  {
   "cell_type": "code",
   "execution_count": 121,
   "id": "53c314a7",
   "metadata": {},
   "outputs": [],
   "source": [
    "NBX_train, NBX_test, NBY_train, NBY_test = train_test_split(NBDataX, NBDataY, test_size=0.5, random_state=50)"
   ]
  },
  {
   "cell_type": "code",
   "execution_count": 122,
   "id": "84b0af7f",
   "metadata": {},
   "outputs": [],
   "source": [
    "from sklearn.naive_bayes import BernoulliNB\n",
    "from sklearn.naive_bayes import GaussianNB"
   ]
  },
  {
   "cell_type": "code",
   "execution_count": 123,
   "id": "2255966d",
   "metadata": {},
   "outputs": [
    {
     "data": {
      "text/plain": [
       "BernoulliNB()"
      ]
     },
     "execution_count": 123,
     "metadata": {},
     "output_type": "execute_result"
    }
   ],
   "source": [
    "#Create a Classifier and Train the model\n",
    "BERNmodel = BernoulliNB()\n",
    "#GAUSSmodel = GaussianNB()\n",
    "\n",
    "# If the other variables were continuous, I would use GaussianNB()\n",
    "BERNmodel.fit(NBX_train, np.ravel(NBY_train))\n",
    "#GAUSSmodel.fit(NBX_train, np.ravel(NBY_train))"
   ]
  },
  {
   "cell_type": "code",
   "execution_count": 124,
   "id": "175ce5cb",
   "metadata": {},
   "outputs": [
    {
     "name": "stdout",
     "output_type": "stream",
     "text": [
      "[[1978    0]\n",
      " [ 283    0]]\n"
     ]
    }
   ],
   "source": [
    "from sklearn.metrics import confusion_matrix\n",
    "\n",
    "#Predict Bernoulli Output \n",
    "NBERNY_pred = BERNmodel.predict(NBX_test)\n",
    "#NGaussY_pred = GAUSSmodel.predict(NBX_test)\n",
    "\n",
    "NBERNConfusion_Matrix = confusion_matrix(NBY_test, NBERNY_pred)\n",
    "#NGaussConfusion_Matrix = confusion_matrix(NBY_test, NGaussY_pred)\n",
    "\n",
    "print(NBERNConfusion_Matrix)\n",
    "#print(NGaussConfusion_Matrix)"
   ]
  },
  {
   "cell_type": "code",
   "execution_count": 125,
   "id": "944a885b",
   "metadata": {},
   "outputs": [
    {
     "data": {
      "text/plain": [
       "0.8748341441839894"
      ]
     },
     "execution_count": 125,
     "metadata": {},
     "output_type": "execute_result"
    }
   ],
   "source": [
    "BERNmodel.score(NBX_test, NBY_test)\n",
    "#GAUSSmodel.score(NBX_test, NBY_test)"
   ]
  },
  {
   "cell_type": "markdown",
   "id": "a73c18f7",
   "metadata": {},
   "source": [
    "# KNN"
   ]
  },
  {
   "cell_type": "code",
   "execution_count": 139,
   "id": "7b566b18",
   "metadata": {},
   "outputs": [],
   "source": [
    "NNDataX = dfbank[['job_mgmt','married','ps_edu','hous_loan','pers_loan','priorcontacts']]\n",
    "NNDataY = dfbank[['subscribed']]"
   ]
  },
  {
   "cell_type": "code",
   "execution_count": 140,
   "id": "494b2584",
   "metadata": {},
   "outputs": [],
   "source": [
    "normalized_NNDataX=(NNDataX-NNDataX.min())/(NNDataX.max()-NNDataX.min())"
   ]
  },
  {
   "cell_type": "code",
   "execution_count": 141,
   "id": "4b47d877",
   "metadata": {},
   "outputs": [],
   "source": [
    "from sklearn.model_selection import train_test_split\n",
    "\n",
    "X_train, X_test, y_train, y_test = train_test_split(normalized_NNDataX, NNDataY, test_size=0.5, random_state=50)"
   ]
  },
  {
   "cell_type": "code",
   "execution_count": 142,
   "id": "e1e1c1d8",
   "metadata": {},
   "outputs": [
    {
     "data": {
      "text/plain": [
       "KNeighborsClassifier(n_neighbors=47)"
      ]
     },
     "execution_count": 142,
     "metadata": {},
     "output_type": "execute_result"
    }
   ],
   "source": [
    "from sklearn.neighbors import KNeighborsClassifier\n",
    "knn = KNeighborsClassifier(n_neighbors = 47)\n",
    "knn.fit(X_train, np.ravel(y_train))"
   ]
  },
  {
   "cell_type": "code",
   "execution_count": 143,
   "id": "445f9910",
   "metadata": {},
   "outputs": [
    {
     "data": {
      "text/plain": [
       "0.8748341441839894"
      ]
     },
     "execution_count": 143,
     "metadata": {},
     "output_type": "execute_result"
    }
   ],
   "source": [
    "knn.score(X_test, y_test)"
   ]
  },
  {
   "cell_type": "code",
   "execution_count": 144,
   "id": "a668194d",
   "metadata": {},
   "outputs": [],
   "source": [
    "Y_pred = knn.predict(X_test)"
   ]
  },
  {
   "cell_type": "code",
   "execution_count": 145,
   "id": "0ab3e888",
   "metadata": {},
   "outputs": [
    {
     "name": "stdout",
     "output_type": "stream",
     "text": [
      "[[1978    0]\n",
      " [ 283    0]]\n"
     ]
    }
   ],
   "source": [
    "from sklearn.metrics import confusion_matrix\n",
    "Confusion_Matrix = confusion_matrix(y_test, Y_pred)\n",
    "print(Confusion_Matrix)"
   ]
  }
 ],
 "metadata": {
  "kernelspec": {
   "display_name": "Python 3 (ipykernel)",
   "language": "python",
   "name": "python3"
  },
  "language_info": {
   "codemirror_mode": {
    "name": "ipython",
    "version": 3
   },
   "file_extension": ".py",
   "mimetype": "text/x-python",
   "name": "python",
   "nbconvert_exporter": "python",
   "pygments_lexer": "ipython3",
   "version": "3.9.12"
  }
 },
 "nbformat": 4,
 "nbformat_minor": 5
}
